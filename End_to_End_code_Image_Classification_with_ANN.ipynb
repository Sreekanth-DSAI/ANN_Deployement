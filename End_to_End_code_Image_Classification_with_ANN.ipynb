{
 "cells": [
  {
   "cell_type": "markdown",
   "metadata": {
    "id": "XAl9QOlyi3Uf"
   },
   "source": [
    "# Building an Image Classification Model with Artificial Neural Network"
   ]
  },
  {
   "cell_type": "markdown",
   "metadata": {
    "id": "43CdMEtfmoPa"
   },
   "source": [
    "CRISP-ML(Q) Methodology\n",
    "*   Business and Data Understanding\n",
    "*   Data Preparation (Data Engineering)\n",
    "*   Model Building (Machine Learning)\n",
    "*   Model Evaluation and Tuning\n",
    "*   Deployment\n",
    "*   Monitoring and Maintenance\n",
    "\n"
   ]
  },
  {
   "cell_type": "markdown",
   "metadata": {
    "id": "EraNggnQnX7j"
   },
   "source": [
    "# Stage1 : Business and Data Understanding\n",
    "\n",
    "- The goal in this model building is to take an image of a handwritten single digit, and determine what that digit is. The project aims to evaluate the hand writtern numbers (0-9).\n",
    "\n",
    "- Business Objectives: Maximize the ability to recognize hand writtern documents\n",
    "\n",
    "- Constraints: Availability of data (More data will always give better accuracy)\n",
    "\n",
    "# Stage1(a) : Data Collection\n",
    "\n",
    "- The MNIST database of handwritten digits, available from this page, has a training set of 60,000 examples, and a test set of 10,000 examples. It is a subset of a larger set available from NIST. The digits have been size-normalized and centered in a fixed-size image. In our case, we have taken a subset of these data with training set of 5000 examples, and a test set of 1000 examples (http://yann.lecun.com/exdb/mnist/).\n",
    "\n",
    "# Stage1(b) : Data Dictionary\n",
    "\n",
    "- Each image is 28 pixels in height and 28 pixels in width, for a total of 784 pixels in total. Each pixel has a single pixel-value associated with it, indicating the lightness or darkness of that pixel, with higher numbers meaning darker. This pixel-value is an integer between 0 and 255, inclusive.\n",
    "\n",
    "- The training data set, (train.csv), has 785 columns. The first column, called \"label\", is the digit that was drawn by the user. The rest of the columns contain the pixel-values of the associated image.\n",
    "\n"
   ]
  },
  {
   "cell_type": "markdown",
   "metadata": {},
   "source": [
    "# Install/import required libraries"
   ]
  },
  {
   "cell_type": "code",
   "execution_count": 1,
   "metadata": {},
   "outputs": [
    {
     "name": "stdout",
     "output_type": "stream",
     "text": [
      "Requirement already satisfied: tensorflow in c:\\users\\dell\\anaconda3\\lib\\site-packages (2.9.1)\n",
      "Requirement already satisfied: libclang>=13.0.0 in c:\\users\\dell\\anaconda3\\lib\\site-packages (from tensorflow) (14.0.6)\n",
      "Requirement already satisfied: tensorflow-io-gcs-filesystem>=0.23.1 in c:\\users\\dell\\anaconda3\\lib\\site-packages (from tensorflow) (0.26.0)\n",
      "Requirement already satisfied: termcolor>=1.1.0 in c:\\users\\dell\\anaconda3\\lib\\site-packages (from tensorflow) (1.1.0)\n",
      "Requirement already satisfied: setuptools in c:\\users\\dell\\anaconda3\\lib\\site-packages (from tensorflow) (61.2.0)\n",
      "Requirement already satisfied: tensorboard<2.10,>=2.9 in c:\\users\\dell\\anaconda3\\lib\\site-packages (from tensorflow) (2.9.1)\n",
      "Requirement already satisfied: typing-extensions>=3.6.6 in c:\\users\\dell\\anaconda3\\lib\\site-packages (from tensorflow) (4.1.1)\n",
      "Requirement already satisfied: six>=1.12.0 in c:\\users\\dell\\anaconda3\\lib\\site-packages (from tensorflow) (1.16.0)\n",
      "Requirement already satisfied: keras<2.10.0,>=2.9.0rc0 in c:\\users\\dell\\anaconda3\\lib\\site-packages (from tensorflow) (2.9.0)\n",
      "Requirement already satisfied: numpy>=1.20 in c:\\users\\dell\\anaconda3\\lib\\site-packages (from tensorflow) (1.21.5)\n",
      "Requirement already satisfied: opt-einsum>=2.3.2 in c:\\users\\dell\\anaconda3\\lib\\site-packages (from tensorflow) (3.3.0)\n",
      "Requirement already satisfied: flatbuffers<2,>=1.12 in c:\\users\\dell\\anaconda3\\lib\\site-packages (from tensorflow) (1.12)\n",
      "Requirement already satisfied: h5py>=2.9.0 in c:\\users\\dell\\anaconda3\\lib\\site-packages (from tensorflow) (3.6.0)\n",
      "Requirement already satisfied: packaging in c:\\users\\dell\\anaconda3\\lib\\site-packages (from tensorflow) (21.3)\n",
      "Requirement already satisfied: tensorflow-estimator<2.10.0,>=2.9.0rc0 in c:\\users\\dell\\anaconda3\\lib\\site-packages (from tensorflow) (2.9.0)\n",
      "Requirement already satisfied: google-pasta>=0.1.1 in c:\\users\\dell\\anaconda3\\lib\\site-packages (from tensorflow) (0.2.0)\n",
      "Requirement already satisfied: wrapt>=1.11.0 in c:\\users\\dell\\anaconda3\\lib\\site-packages (from tensorflow) (1.12.1)\n",
      "Requirement already satisfied: astunparse>=1.6.0 in c:\\users\\dell\\anaconda3\\lib\\site-packages (from tensorflow) (1.6.3)\n",
      "Requirement already satisfied: grpcio<2.0,>=1.24.3 in c:\\users\\dell\\anaconda3\\lib\\site-packages (from tensorflow) (1.42.0)\n",
      "Requirement already satisfied: absl-py>=1.0.0 in c:\\users\\dell\\anaconda3\\lib\\site-packages (from tensorflow) (1.2.0)\n",
      "Requirement already satisfied: keras-preprocessing>=1.1.1 in c:\\users\\dell\\anaconda3\\lib\\site-packages (from tensorflow) (1.1.2)\n",
      "Requirement already satisfied: protobuf<3.20,>=3.9.2 in c:\\users\\dell\\anaconda3\\lib\\site-packages (from tensorflow) (3.19.1)\n",
      "Requirement already satisfied: gast<=0.4.0,>=0.2.1 in c:\\users\\dell\\anaconda3\\lib\\site-packages (from tensorflow) (0.4.0)\n",
      "Requirement already satisfied: wheel<1.0,>=0.23.0 in c:\\users\\dell\\anaconda3\\lib\\site-packages (from astunparse>=1.6.0->tensorflow) (0.37.1)\n",
      "Requirement already satisfied: requests<3,>=2.21.0 in c:\\users\\dell\\anaconda3\\lib\\site-packages (from tensorboard<2.10,>=2.9->tensorflow) (2.27.1)\n",
      "Requirement already satisfied: google-auth<3,>=1.6.3 in c:\\users\\dell\\anaconda3\\lib\\site-packages (from tensorboard<2.10,>=2.9->tensorflow) (1.33.0)\n",
      "Requirement already satisfied: markdown>=2.6.8 in c:\\users\\dell\\anaconda3\\lib\\site-packages (from tensorboard<2.10,>=2.9->tensorflow) (3.3.4)\n",
      "Requirement already satisfied: werkzeug>=1.0.1 in c:\\users\\dell\\anaconda3\\lib\\site-packages (from tensorboard<2.10,>=2.9->tensorflow) (2.0.3)\n",
      "Requirement already satisfied: tensorboard-plugin-wit>=1.6.0 in c:\\users\\dell\\anaconda3\\lib\\site-packages (from tensorboard<2.10,>=2.9->tensorflow) (1.8.1)\n",
      "Requirement already satisfied: tensorboard-data-server<0.7.0,>=0.6.0 in c:\\users\\dell\\anaconda3\\lib\\site-packages (from tensorboard<2.10,>=2.9->tensorflow) (0.6.1)\n",
      "Requirement already satisfied: google-auth-oauthlib<0.5,>=0.4.1 in c:\\users\\dell\\anaconda3\\lib\\site-packages (from tensorboard<2.10,>=2.9->tensorflow) (0.4.6)\n",
      "Requirement already satisfied: rsa<5,>=3.1.4 in c:\\users\\dell\\anaconda3\\lib\\site-packages (from google-auth<3,>=1.6.3->tensorboard<2.10,>=2.9->tensorflow) (4.7.2)\n",
      "Requirement already satisfied: cachetools<5.0,>=2.0.0 in c:\\users\\dell\\anaconda3\\lib\\site-packages (from google-auth<3,>=1.6.3->tensorboard<2.10,>=2.9->tensorflow) (4.2.2)\n",
      "Requirement already satisfied: pyasn1-modules>=0.2.1 in c:\\users\\dell\\anaconda3\\lib\\site-packages (from google-auth<3,>=1.6.3->tensorboard<2.10,>=2.9->tensorflow) (0.2.8)\n",
      "Requirement already satisfied: requests-oauthlib>=0.7.0 in c:\\users\\dell\\anaconda3\\lib\\site-packages (from google-auth-oauthlib<0.5,>=0.4.1->tensorboard<2.10,>=2.9->tensorflow) (1.3.1)\n",
      "Requirement already satisfied: pyasn1<0.5.0,>=0.4.6 in c:\\users\\dell\\anaconda3\\lib\\site-packages (from pyasn1-modules>=0.2.1->google-auth<3,>=1.6.3->tensorboard<2.10,>=2.9->tensorflow) (0.4.8)\n",
      "Requirement already satisfied: urllib3<1.27,>=1.21.1 in c:\\users\\dell\\anaconda3\\lib\\site-packages (from requests<3,>=2.21.0->tensorboard<2.10,>=2.9->tensorflow) (1.26.9)\n",
      "Requirement already satisfied: idna<4,>=2.5 in c:\\users\\dell\\anaconda3\\lib\\site-packages (from requests<3,>=2.21.0->tensorboard<2.10,>=2.9->tensorflow) (3.3)\n",
      "Requirement already satisfied: charset-normalizer~=2.0.0 in c:\\users\\dell\\anaconda3\\lib\\site-packages (from requests<3,>=2.21.0->tensorboard<2.10,>=2.9->tensorflow) (2.0.4)\n",
      "Requirement already satisfied: certifi>=2017.4.17 in c:\\users\\dell\\anaconda3\\lib\\site-packages (from requests<3,>=2.21.0->tensorboard<2.10,>=2.9->tensorflow) (2021.10.8)\n",
      "Requirement already satisfied: oauthlib>=3.0.0 in c:\\users\\dell\\anaconda3\\lib\\site-packages (from requests-oauthlib>=0.7.0->google-auth-oauthlib<0.5,>=0.4.1->tensorboard<2.10,>=2.9->tensorflow) (3.2.0)\n",
      "Requirement already satisfied: pyparsing!=3.0.5,>=2.0.2 in c:\\users\\dell\\anaconda3\\lib\\site-packages (from packaging->tensorflow) (3.0.4)\n",
      "Note: you may need to restart the kernel to use updated packages.\n"
     ]
    }
   ],
   "source": [
    "pip install tensorflow"
   ]
  },
  {
   "cell_type": "code",
   "execution_count": 2,
   "metadata": {},
   "outputs": [
    {
     "name": "stdout",
     "output_type": "stream",
     "text": [
      "Requirement already satisfied: keras in c:\\users\\dell\\anaconda3\\lib\\site-packages (2.9.0)Note: you may need to restart the kernel to use updated packages.\n",
      "\n"
     ]
    }
   ],
   "source": [
    "pip install keras"
   ]
  },
  {
   "cell_type": "code",
   "execution_count": 3,
   "metadata": {
    "id": "e1FfvDAqhGC1"
   },
   "outputs": [],
   "source": [
    "from tensorflow.keras.layers import Dense\n",
    "# Import necessary libraries for MLP and reshaping the data structres\n",
    "# from keras.datasets import mnist\n",
    "from tensorflow.keras.models import Sequential\n",
    "import pandas as pd\n",
    "import numpy as np\n",
    "from keras.utils import np_utils\n",
    "# from tensorflow.keras.layers import Dense\n",
    "# from keras.models import Sequential\n",
    "# from keras.layers import Dense\n",
    "# from keras.layers import Dropout,Flatten"
   ]
  },
  {
   "cell_type": "markdown",
   "metadata": {
    "id": "g3l2EQhjpV7W"
   },
   "source": [
    "## Loading data from MySQL database\n",
    "\n",
    "- The Train and Test datasets were stored in SQL database (Secondary data source) and using connectors, the data is being loaded in to python for model building process\n",
    "\n"
   ]
  },
  {
   "cell_type": "code",
   "execution_count": 4,
   "metadata": {
    "id": "mlWA_TByMJQI"
   },
   "outputs": [
    {
     "name": "stdout",
     "output_type": "stream",
     "text": [
      "Collecting mysql\n",
      "  Downloading mysql-0.0.3-py3-none-any.whl (1.2 kB)\n",
      "Collecting mysqlclient\n",
      "  Downloading mysqlclient-2.1.1-cp39-cp39-win_amd64.whl (178 kB)\n",
      "Installing collected packages: mysqlclient, mysqlNote: you may need to restart the kernel to use updated packages.\n",
      "\n",
      "Successfully installed mysql-0.0.3 mysqlclient-2.1.1\n"
     ]
    }
   ],
   "source": [
    "pip install mysql"
   ]
  },
  {
   "cell_type": "code",
   "execution_count": 5,
   "metadata": {
    "id": "3Nk1HYFUMPct"
   },
   "outputs": [
    {
     "name": "stdout",
     "output_type": "stream",
     "text": [
      "Collecting mysql.connectorNote: you may need to restart the kernel to use updated packages.\n",
      "  Downloading mysql-connector-2.2.9.tar.gz (11.9 MB)\n",
      "Building wheels for collected packages: mysql.connector\n",
      "  Building wheel for mysql.connector (setup.py): started\n",
      "  Building wheel for mysql.connector (setup.py): finished with status 'done'\n",
      "  Created wheel for mysql.connector: filename=mysql_connector-2.2.9-cp39-cp39-win_amd64.whl size=247961 sha256=4b3b0e2e2b7822bd36dfb913e905516621190c37b8c1b741117071e3ec2bd8bf\n",
      "  Stored in directory: c:\\users\\dell\\appdata\\local\\pip\\cache\\wheels\\7b\\14\\39\\5aad423666e827dfe9a1fbcd111ac17171e7c9865d570780ce\n",
      "Successfully built mysql.connector\n",
      "Installing collected packages: mysql.connector\n",
      "Successfully installed mysql.connector-2.2.9\n",
      "\n"
     ]
    }
   ],
   "source": [
    "pip install mysql.connector"
   ]
  },
  {
   "cell_type": "code",
   "execution_count": 15,
   "metadata": {
    "colab": {
     "base_uri": "https://localhost:8080/",
     "height": 432
    },
    "id": "h5MFSGK0NZLH",
    "outputId": "25f01cfd-3312-44d2-d436-edf15a8b5fd6"
   },
   "outputs": [
    {
     "ename": "ProgrammingError",
     "evalue": "1045 (28000): Access denied for user 'root'@'localhost' (using password: YES)",
     "output_type": "error",
     "traceback": [
      "\u001b[1;31m---------------------------------------------------------------------------\u001b[0m",
      "\u001b[1;31mProgrammingError\u001b[0m                          Traceback (most recent call last)",
      "Input \u001b[1;32mIn [15]\u001b[0m, in \u001b[0;36m<cell line: 3>\u001b[1;34m()\u001b[0m\n\u001b[0;32m      1\u001b[0m \u001b[38;5;28;01mimport\u001b[39;00m \u001b[38;5;21;01mmysql\u001b[39;00m\u001b[38;5;21;01m.\u001b[39;00m\u001b[38;5;21;01mconnector\u001b[39;00m \u001b[38;5;28;01mas\u001b[39;00m \u001b[38;5;21;01msql\u001b[39;00m\n\u001b[1;32m----> 3\u001b[0m mydb \u001b[38;5;241m=\u001b[39m \u001b[43msql\u001b[49m\u001b[38;5;241;43m.\u001b[39;49m\u001b[43mconnect\u001b[49m\u001b[43m(\u001b[49m\n\u001b[0;32m      4\u001b[0m \u001b[43m  \u001b[49m\u001b[43mhost\u001b[49m\u001b[38;5;241;43m=\u001b[39;49m\u001b[38;5;124;43m\"\u001b[39;49m\u001b[38;5;124;43mlocalhost\u001b[39;49m\u001b[38;5;124;43m\"\u001b[39;49m\u001b[43m,\u001b[49m\n\u001b[0;32m      5\u001b[0m \u001b[43m  \u001b[49m\u001b[43muser\u001b[49m\u001b[38;5;241;43m=\u001b[39;49m\u001b[38;5;124;43m\"\u001b[39;49m\u001b[38;5;124;43mroot\u001b[39;49m\u001b[38;5;124;43m\"\u001b[39;49m\u001b[43m,\u001b[49m\n\u001b[0;32m      6\u001b[0m \u001b[43m  \u001b[49m\u001b[43mpassword\u001b[49m\u001b[38;5;241;43m=\u001b[39;49m\u001b[38;5;124;43m\"\u001b[39;49m\u001b[38;5;124;43mPassword\u001b[39;49m\u001b[38;5;124;43m\"\u001b[39;49m\u001b[43m,\u001b[49m\n\u001b[0;32m      7\u001b[0m \u001b[43m  \u001b[49m\u001b[43mauth_plugin\u001b[49m\u001b[38;5;241;43m=\u001b[39;49m\u001b[38;5;124;43m'\u001b[39;49m\u001b[38;5;124;43mmysql_native_password\u001b[39;49m\u001b[38;5;124;43m'\u001b[39;49m\n\u001b[0;32m      8\u001b[0m \u001b[43m)\u001b[49m\n\u001b[0;32m      9\u001b[0m \u001b[38;5;28mprint\u001b[39m(mydb)\n",
      "File \u001b[1;32m~\\Anaconda3\\lib\\site-packages\\mysql\\connector\\__init__.py:179\u001b[0m, in \u001b[0;36mconnect\u001b[1;34m(*args, **kwargs)\u001b[0m\n\u001b[0;32m    177\u001b[0m     \u001b[38;5;28;01mreturn\u001b[39;00m CMySQLConnection(\u001b[38;5;241m*\u001b[39margs, \u001b[38;5;241m*\u001b[39m\u001b[38;5;241m*\u001b[39mkwargs)\n\u001b[0;32m    178\u001b[0m \u001b[38;5;28;01melse\u001b[39;00m:\n\u001b[1;32m--> 179\u001b[0m     \u001b[38;5;28;01mreturn\u001b[39;00m MySQLConnection(\u001b[38;5;241m*\u001b[39margs, \u001b[38;5;241m*\u001b[39m\u001b[38;5;241m*\u001b[39mkwargs)\n",
      "File \u001b[1;32m~\\Anaconda3\\lib\\site-packages\\mysql\\connector\\connection.py:95\u001b[0m, in \u001b[0;36mMySQLConnection.__init__\u001b[1;34m(self, *args, **kwargs)\u001b[0m\n\u001b[0;32m     92\u001b[0m \u001b[38;5;28mself\u001b[39m\u001b[38;5;241m.\u001b[39m_pool_config_version \u001b[38;5;241m=\u001b[39m \u001b[38;5;28;01mNone\u001b[39;00m\n\u001b[0;32m     94\u001b[0m \u001b[38;5;28;01mif\u001b[39;00m \u001b[38;5;28mlen\u001b[39m(kwargs) \u001b[38;5;241m>\u001b[39m \u001b[38;5;241m0\u001b[39m:\n\u001b[1;32m---> 95\u001b[0m     \u001b[38;5;28mself\u001b[39m\u001b[38;5;241m.\u001b[39mconnect(\u001b[38;5;241m*\u001b[39m\u001b[38;5;241m*\u001b[39mkwargs)\n",
      "File \u001b[1;32m~\\Anaconda3\\lib\\site-packages\\mysql\\connector\\abstracts.py:716\u001b[0m, in \u001b[0;36mMySQLConnectionAbstract.connect\u001b[1;34m(self, **kwargs)\u001b[0m\n\u001b[0;32m    713\u001b[0m     \u001b[38;5;28mself\u001b[39m\u001b[38;5;241m.\u001b[39mconfig(\u001b[38;5;241m*\u001b[39m\u001b[38;5;241m*\u001b[39mkwargs)\n\u001b[0;32m    715\u001b[0m \u001b[38;5;28mself\u001b[39m\u001b[38;5;241m.\u001b[39mdisconnect()\n\u001b[1;32m--> 716\u001b[0m \u001b[38;5;28;43mself\u001b[39;49m\u001b[38;5;241;43m.\u001b[39;49m\u001b[43m_open_connection\u001b[49m\u001b[43m(\u001b[49m\u001b[43m)\u001b[49m\n\u001b[0;32m    717\u001b[0m \u001b[38;5;28mself\u001b[39m\u001b[38;5;241m.\u001b[39m_post_connection()\n",
      "File \u001b[1;32m~\\Anaconda3\\lib\\site-packages\\mysql\\connector\\connection.py:208\u001b[0m, in \u001b[0;36mMySQLConnection._open_connection\u001b[1;34m(self)\u001b[0m\n\u001b[0;32m    206\u001b[0m \u001b[38;5;28mself\u001b[39m\u001b[38;5;241m.\u001b[39m_socket\u001b[38;5;241m.\u001b[39mopen_connection()\n\u001b[0;32m    207\u001b[0m \u001b[38;5;28mself\u001b[39m\u001b[38;5;241m.\u001b[39m_do_handshake()\n\u001b[1;32m--> 208\u001b[0m \u001b[38;5;28;43mself\u001b[39;49m\u001b[38;5;241;43m.\u001b[39;49m\u001b[43m_do_auth\u001b[49m\u001b[43m(\u001b[49m\u001b[38;5;28;43mself\u001b[39;49m\u001b[38;5;241;43m.\u001b[39;49m\u001b[43m_user\u001b[49m\u001b[43m,\u001b[49m\u001b[43m \u001b[49m\u001b[38;5;28;43mself\u001b[39;49m\u001b[38;5;241;43m.\u001b[39;49m\u001b[43m_password\u001b[49m\u001b[43m,\u001b[49m\n\u001b[0;32m    209\u001b[0m \u001b[43m              \u001b[49m\u001b[38;5;28;43mself\u001b[39;49m\u001b[38;5;241;43m.\u001b[39;49m\u001b[43m_database\u001b[49m\u001b[43m,\u001b[49m\u001b[43m \u001b[49m\u001b[38;5;28;43mself\u001b[39;49m\u001b[38;5;241;43m.\u001b[39;49m\u001b[43m_client_flags\u001b[49m\u001b[43m,\u001b[49m\u001b[43m \u001b[49m\u001b[38;5;28;43mself\u001b[39;49m\u001b[38;5;241;43m.\u001b[39;49m\u001b[43m_charset_id\u001b[49m\u001b[43m,\u001b[49m\n\u001b[0;32m    210\u001b[0m \u001b[43m              \u001b[49m\u001b[38;5;28;43mself\u001b[39;49m\u001b[38;5;241;43m.\u001b[39;49m\u001b[43m_ssl\u001b[49m\u001b[43m)\u001b[49m\n\u001b[0;32m    211\u001b[0m \u001b[38;5;28mself\u001b[39m\u001b[38;5;241m.\u001b[39mset_converter_class(\u001b[38;5;28mself\u001b[39m\u001b[38;5;241m.\u001b[39m_converter_class)\n\u001b[0;32m    212\u001b[0m \u001b[38;5;28;01mif\u001b[39;00m \u001b[38;5;28mself\u001b[39m\u001b[38;5;241m.\u001b[39m_client_flags \u001b[38;5;241m&\u001b[39m ClientFlag\u001b[38;5;241m.\u001b[39mCOMPRESS:\n",
      "File \u001b[1;32m~\\Anaconda3\\lib\\site-packages\\mysql\\connector\\connection.py:144\u001b[0m, in \u001b[0;36mMySQLConnection._do_auth\u001b[1;34m(self, username, password, database, client_flags, charset, ssl_options)\u001b[0m\n\u001b[0;32m    137\u001b[0m packet \u001b[38;5;241m=\u001b[39m \u001b[38;5;28mself\u001b[39m\u001b[38;5;241m.\u001b[39m_protocol\u001b[38;5;241m.\u001b[39mmake_auth(\n\u001b[0;32m    138\u001b[0m     handshake\u001b[38;5;241m=\u001b[39m\u001b[38;5;28mself\u001b[39m\u001b[38;5;241m.\u001b[39m_handshake,\n\u001b[0;32m    139\u001b[0m     username\u001b[38;5;241m=\u001b[39musername, password\u001b[38;5;241m=\u001b[39mpassword, database\u001b[38;5;241m=\u001b[39mdatabase,\n\u001b[0;32m    140\u001b[0m     charset\u001b[38;5;241m=\u001b[39mcharset, client_flags\u001b[38;5;241m=\u001b[39mclient_flags,\n\u001b[0;32m    141\u001b[0m     ssl_enabled\u001b[38;5;241m=\u001b[39m\u001b[38;5;28mself\u001b[39m\u001b[38;5;241m.\u001b[39m_ssl_active,\n\u001b[0;32m    142\u001b[0m     auth_plugin\u001b[38;5;241m=\u001b[39m\u001b[38;5;28mself\u001b[39m\u001b[38;5;241m.\u001b[39m_auth_plugin)\n\u001b[0;32m    143\u001b[0m \u001b[38;5;28mself\u001b[39m\u001b[38;5;241m.\u001b[39m_socket\u001b[38;5;241m.\u001b[39msend(packet)\n\u001b[1;32m--> 144\u001b[0m \u001b[38;5;28;43mself\u001b[39;49m\u001b[38;5;241;43m.\u001b[39;49m\u001b[43m_auth_switch_request\u001b[49m\u001b[43m(\u001b[49m\u001b[43musername\u001b[49m\u001b[43m,\u001b[49m\u001b[43m \u001b[49m\u001b[43mpassword\u001b[49m\u001b[43m)\u001b[49m\n\u001b[0;32m    146\u001b[0m \u001b[38;5;28;01mif\u001b[39;00m \u001b[38;5;129;01mnot\u001b[39;00m (client_flags \u001b[38;5;241m&\u001b[39m ClientFlag\u001b[38;5;241m.\u001b[39mCONNECT_WITH_DB) \u001b[38;5;129;01mand\u001b[39;00m database:\n\u001b[0;32m    147\u001b[0m     \u001b[38;5;28mself\u001b[39m\u001b[38;5;241m.\u001b[39mcmd_init_db(database)\n",
      "File \u001b[1;32m~\\Anaconda3\\lib\\site-packages\\mysql\\connector\\connection.py:173\u001b[0m, in \u001b[0;36mMySQLConnection._auth_switch_request\u001b[1;34m(self, username, password)\u001b[0m\n\u001b[0;32m    171\u001b[0m packet \u001b[38;5;241m=\u001b[39m \u001b[38;5;28mself\u001b[39m\u001b[38;5;241m.\u001b[39m_socket\u001b[38;5;241m.\u001b[39mrecv()\n\u001b[0;32m    172\u001b[0m \u001b[38;5;28;01mif\u001b[39;00m packet[\u001b[38;5;241m4\u001b[39m] \u001b[38;5;241m!=\u001b[39m \u001b[38;5;241m1\u001b[39m:\n\u001b[1;32m--> 173\u001b[0m     \u001b[38;5;28;01mreturn\u001b[39;00m \u001b[38;5;28;43mself\u001b[39;49m\u001b[38;5;241;43m.\u001b[39;49m\u001b[43m_handle_ok\u001b[49m\u001b[43m(\u001b[49m\u001b[43mpacket\u001b[49m\u001b[43m)\u001b[49m\n\u001b[0;32m    174\u001b[0m \u001b[38;5;28;01melse\u001b[39;00m:\n\u001b[0;32m    175\u001b[0m     auth_data \u001b[38;5;241m=\u001b[39m \u001b[38;5;28mself\u001b[39m\u001b[38;5;241m.\u001b[39m_protocol\u001b[38;5;241m.\u001b[39mparse_auth_more_data(packet)\n",
      "File \u001b[1;32m~\\Anaconda3\\lib\\site-packages\\mysql\\connector\\connection.py:331\u001b[0m, in \u001b[0;36mMySQLConnection._handle_ok\u001b[1;34m(self, packet)\u001b[0m\n\u001b[0;32m    329\u001b[0m     \u001b[38;5;28;01mreturn\u001b[39;00m ok_pkt\n\u001b[0;32m    330\u001b[0m \u001b[38;5;28;01melif\u001b[39;00m packet[\u001b[38;5;241m4\u001b[39m] \u001b[38;5;241m==\u001b[39m \u001b[38;5;241m255\u001b[39m:\n\u001b[1;32m--> 331\u001b[0m     \u001b[38;5;28;01mraise\u001b[39;00m errors\u001b[38;5;241m.\u001b[39mget_exception(packet)\n\u001b[0;32m    332\u001b[0m \u001b[38;5;28;01mraise\u001b[39;00m errors\u001b[38;5;241m.\u001b[39mInterfaceError(\u001b[38;5;124m'\u001b[39m\u001b[38;5;124mExpected OK packet\u001b[39m\u001b[38;5;124m'\u001b[39m)\n",
      "\u001b[1;31mProgrammingError\u001b[0m: 1045 (28000): Access denied for user 'root'@'localhost' (using password: YES)"
     ]
    }
   ],
   "source": [
    "import mysql.connector as sql\n",
    "\n",
    "mydb = sql.connect(\n",
    "  host=\"localhost\",\n",
    "  user=\"root\",\n",
    "  password=\"Password\",\n",
    "  auth_plugin='mysql_native_password'\n",
    ")\n",
    "print(mydb)"
   ]
  },
  {
   "cell_type": "code",
   "execution_count": null,
   "metadata": {
    "id": "IA_7cXTvZ9EO"
   },
   "outputs": [],
   "source": [
    "#Train Data\n",
    "mycursor = mydb.cursor()\n",
    "mycursor.execute(\"SELECT * FROM ann.train_sample\")\n",
    "myresult = mycursor.fetchall()"
   ]
  },
  {
   "cell_type": "code",
   "execution_count": null,
   "metadata": {
    "id": "mFIDuSqtaBEZ"
   },
   "outputs": [],
   "source": [
    "num_fields = len(mycursor.description)\n",
    "field_names = [i[0] for i in mycursor.description]\n",
    "train = pd.DataFrame(myresult,columns = field_names)\n",
    "train.head()"
   ]
  },
  {
   "cell_type": "code",
   "execution_count": null,
   "metadata": {
    "id": "r93ik8I8aE3F"
   },
   "outputs": [],
   "source": [
    "#Test Data\n",
    "mycursor = mydb.cursor()\n",
    "mycursor.execute(\"SELECT * FROM ann.test_sample\")\n",
    "myresult = mycursor.fetchall()"
   ]
  },
  {
   "cell_type": "code",
   "execution_count": null,
   "metadata": {
    "id": "MW0a0vhnaG3_"
   },
   "outputs": [],
   "source": [
    "num_fields = len(mycursor.description)\n",
    "field_names = [i[0] for i in mycursor.description]\n",
    "test = pd.DataFrame(myresult,columns = field_names)\n",
    "test.head()"
   ]
  },
  {
   "cell_type": "markdown",
   "metadata": {
    "id": "xpYaKmu53p0a"
   },
   "source": [
    "## Stage 2 : Data Preparation (Data Engineering)\n",
    "\n",
    "## Stage 2(a) : Exploratory Data Analysis"
   ]
  },
  {
   "cell_type": "code",
   "execution_count": null,
   "metadata": {
    "id": "XieiXipOX7MB"
   },
   "outputs": [],
   "source": [
    "new_train_f = train.drop([\"label\"],axis=1)"
   ]
  },
  {
   "cell_type": "code",
   "execution_count": null,
   "metadata": {
    "id": "yDmZOjjfX7MC"
   },
   "outputs": [],
   "source": [
    "new_train_f = new_train_f.values.reshape(-1,28,28,1)"
   ]
  },
  {
   "cell_type": "code",
   "execution_count": null,
   "metadata": {
    "id": "zzE6_wXjX7MD",
    "outputId": "45af6198-17a6-4cca-8941-65857ecce10a"
   },
   "outputs": [],
   "source": [
    "import matplotlib.pyplot as plt\n",
    "plt.imshow(new_train_f[2999][:,:,0])"
   ]
  },
  {
   "cell_type": "code",
   "execution_count": null,
   "metadata": {
    "id": "L8LQjBQTX7ME",
    "outputId": "a19fdff4-197a-4c05-b981-7575ad33cb4a"
   },
   "outputs": [],
   "source": [
    "train"
   ]
  },
  {
   "cell_type": "markdown",
   "metadata": {
    "id": "uskYoj9HbgAM"
   },
   "source": [
    "## Train and Test data - Data splitting"
   ]
  },
  {
   "cell_type": "code",
   "execution_count": null,
   "metadata": {
    "id": "F0vWgZ91k2H8"
   },
   "outputs": [],
   "source": [
    "# Separating the data set into 2 parts - all the inputs and label columns\n",
    "# converting the integer type into float32 format \n",
    "x_train = train.iloc[:,1:].values.astype(\"float32\")\n",
    "x_test = test.iloc[:,1:].values.astype(\"float32\")\n",
    "y_train = train.label.values.astype(\"float32\")\n",
    "y_test = test.label.values.astype(\"float32\")"
   ]
  },
  {
   "cell_type": "markdown",
   "metadata": {
    "id": "hV_65PlZbqfp"
   },
   "source": [
    "## Data Normalization"
   ]
  },
  {
   "cell_type": "code",
   "execution_count": null,
   "metadata": {
    "id": "GzmDD-nCk-lJ"
   },
   "outputs": [],
   "source": [
    "# Normalizing the inputs to fall under 0-1 by \n",
    "# diving the entire data with 255 (max pixel value)\n",
    "x_train = x_train/255\n",
    "x_test = x_test/255"
   ]
  },
  {
   "cell_type": "code",
   "execution_count": null,
   "metadata": {
    "id": "tVG3GvCulDLm"
   },
   "outputs": [],
   "source": [
    "# one hot encoding outputs for both train and test data sets \n",
    "y_train = np_utils.to_categorical(y_train)\n",
    "y_test = np_utils.to_categorical(y_test)"
   ]
  },
  {
   "cell_type": "code",
   "execution_count": null,
   "metadata": {
    "colab": {
     "base_uri": "https://localhost:8080/"
    },
    "id": "a903ZYPJlGaz",
    "outputId": "37df4da3-6aee-403e-f0ce-b187430de50a"
   },
   "outputs": [],
   "source": [
    "# Storing the number of classes into the variable num_of_classes \n",
    "num_of_classes = y_test.shape[1]\n",
    "x_train.shape\n",
    "y_train.shape\n",
    "x_test.shape\n",
    "y_test.shape"
   ]
  },
  {
   "cell_type": "markdown",
   "metadata": {
    "id": "3upSrY37bzBf"
   },
   "source": [
    "## Stage 3 : Model Building (Machine Learning)"
   ]
  },
  {
   "cell_type": "code",
   "execution_count": null,
   "metadata": {
    "id": "TeMDuaNJlKrt"
   },
   "outputs": [],
   "source": [
    "# Creating a user defined function to return the model for which we are\n",
    "# giving the input to train the ANN mode\n",
    "def design_mlp():\n",
    "    # Initializing the model \n",
    "    model = Sequential()\n",
    "    model.add(Dense(150, input_dim =784, activation=\"relu\"))\n",
    "    model.add(Dense(200, activation=\"tanh\"))\n",
    "    model.add(Dense(100, activation=\"tanh\"))\n",
    "    \n",
    "    model.add(Dense(num_of_classes, activation=\"softmax\"))\n",
    "    model.compile(loss=\"categorical_crossentropy\", metrics=[\"accuracy\"])\n",
    "    return model"
   ]
  },
  {
   "cell_type": "code",
   "execution_count": null,
   "metadata": {
    "colab": {
     "base_uri": "https://localhost:8080/"
    },
    "id": "3Yx1R13NlQHa",
    "outputId": "fe40e931-c2a6-4779-aeaa-e3829e0f7b7e"
   },
   "outputs": [],
   "source": [
    "# building a ANN model using train data set and validating on test data set\n",
    "model = design_mlp()\n",
    "\n",
    "# fitting model on train data\n",
    "model.fit(x=x_train, y=y_train, batch_size=1000, epochs=10)\n",
    "model.summary()"
   ]
  },
  {
   "cell_type": "markdown",
   "metadata": {
    "id": "kJ-ZKpc0b6HZ"
   },
   "source": [
    "## Stage 4 : Model Evaluation and Tuning"
   ]
  },
  {
   "cell_type": "code",
   "execution_count": null,
   "metadata": {
    "colab": {
     "base_uri": "https://localhost:8080/"
    },
    "id": "nP8jxpvIll8i",
    "outputId": "d8266b82-244d-4854-c4ed-779a43e0f5d7"
   },
   "outputs": [
    {
     "name": "stdout",
     "output_type": "stream",
     "text": [
      "32/32 [==============================] - 0s 2ms/step - loss: 0.2831 - accuracy: 0.9160\n",
      "Accuracy: 91.600%\n"
     ]
    }
   ],
   "source": [
    "# Evaluating the model on test data  \n",
    "eval_score_test = model.evaluate(x_test, y_test, verbose = 1)\n",
    "print (\"Accuracy: %.3f%%\" %(eval_score_test[1]*100)) \n",
    "# accuracy on test data set"
   ]
  },
  {
   "cell_type": "code",
   "execution_count": null,
   "metadata": {
    "colab": {
     "base_uri": "https://localhost:8080/"
    },
    "id": "IMo9kxnWlo0f",
    "outputId": "486ebac4-9d85-4b65-ecc8-78b2673ad80c"
   },
   "outputs": [
    {
     "name": "stdout",
     "output_type": "stream",
     "text": [
      "Accuracy: 93.360%\n"
     ]
    }
   ],
   "source": [
    "# accuracy score on train data \n",
    "eval_score_train = model.evaluate(x_train, y_train, verbose=0)\n",
    "print (\"Accuracy: %.3f%%\" %(eval_score_train[1]*100)) \n",
    "# accuracy on train data set"
   ]
  },
  {
   "cell_type": "markdown",
   "metadata": {
    "id": "C8QvYmGUcAJJ"
   },
   "source": [
    "## Stage 5 : Model Deployement\n",
    "\n",
    "### Saving Model (Importing Pickel File)"
   ]
  },
  {
   "cell_type": "code",
   "execution_count": null,
   "metadata": {
    "id": "ZtzqS6HggZdj"
   },
   "outputs": [],
   "source": [
    "\"\"\" model_json = model.to_json()\n",
    "with open(\"ImageClassifier.json\", \"w\") as json_file:\n",
    "    json_file.write(model_json)\n",
    "# serialize weights to HDF5\n",
    "model.save_weights(\"ImageClassifier.h5\") \"\"\""
   ]
  },
  {
   "cell_type": "code",
   "execution_count": null,
   "metadata": {
    "id": "rvpR-z1HX7MN"
   },
   "outputs": [],
   "source": [
    "# import pickle\n",
    "# pickle.dump(model, open('ann_model.pkl', 'wb'))"
   ]
  },
  {
   "cell_type": "code",
   "execution_count": null,
   "metadata": {
    "id": "grUP1z8VX7MO"
   },
   "outputs": [],
   "source": [
    "# load the model from disk\n",
    "# model = pickle.load(open('ann_model.pkl', 'rb'))"
   ]
  },
  {
   "cell_type": "code",
   "execution_count": null,
   "metadata": {
    "colab": {
     "base_uri": "https://localhost:8080/"
    },
    "id": "YWbd0lRYqSCn",
    "outputId": "7c8a0c4d-6e3b-4fdc-f06e-08eb1b30e892"
   },
   "outputs": [
    {
     "name": "stdout",
     "output_type": "stream",
     "text": [
      " * Serving Flask app \"__main__\" (lazy loading)\n",
      " * Environment: production\n",
      "\u001b[31m   WARNING: This is a development server. Do not use it in a production deployment.\u001b[0m\n",
      "\u001b[2m   Use a production WSGI server instead.\u001b[0m\n",
      " * Debug mode: off\n"
     ]
    },
    {
     "name": "stderr",
     "output_type": "stream",
     "text": [
      " * Running on http://127.0.0.1:5000/ (Press CTRL+C to quit)\n"
     ]
    }
   ],
   "source": [
    "# from flask import Flask\n",
    "# app = Flask(__name__)\n",
    "# @app.route('/')\n",
    "# def home():\n",
    "# \treturn render_template('index.html')\n",
    "\n",
    "# @app.route('/predict', methods=['GET','POST'])\n",
    "# def predict():\n",
    "#     '''\n",
    "#     predict function to predict the image\n",
    "#     Api hits this function when someone clicks submit.\n",
    "#     '''\n",
    "#     if request.method == 'POST':\n",
    "#         # Get the image from post request\n",
    "#         img = base64_to_pil(request.json)\n",
    "        \n",
    "#         # initialize model\n",
    "#         model = get_ImageClassifierModel()\n",
    "\n",
    "#         # Make prediction\n",
    "#         preds = model_predict(img, model)\n",
    "\n",
    "#         pred_proba = \"{:.3f}\".format(np.amax(preds))    # Max probability\n",
    "#         pred_class = decode_predictions(preds, top=1)   # ImageNet Decode\n",
    "\n",
    "#         result = str(pred_class[0][0][1])               # Convert to string\n",
    "#         result = result.replace('_', ' ').capitalize()\n",
    "        \n",
    "#         # Serialize the result, you can add additional fields\n",
    "#         return jsonify(result=result, probability=pred_proba)\n",
    "#     return None\n",
    "# #@app.route(‘/predict’, methods=[‘GET’, ‘POST’])\n",
    "\n",
    "# def get_ImageClassifierModel():\n",
    "#     model = model(weights='design_mlp()')\n",
    "#     # Loading the pretrained model\n",
    "#     model_json = open(Model_json, 'r')\n",
    "#     loaded_model_json = model_json.read()\n",
    "#     model_json.close()\n",
    "#     model = model_from_json(loaded_model_json)\n",
    "#     model.load_weights(Model_weigths)\n",
    "#     return model\n",
    "# if __name__ == '__main__':\n",
    "#   app.run(host = '127.0.0.1',port = 5000)\n",
    "  "
   ]
  },
  {
   "cell_type": "code",
   "execution_count": null,
   "metadata": {},
   "outputs": [],
   "source": [
    "from flask import Flask, render_template, request, jsonify\n",
    "import numpy as np\n",
    "from tensorflow import keras\n",
    "import cv2\n",
    "import base64\n",
    "\n",
    "# Initialize flask app\n",
    "app = Flask(__name__)\n",
    "\n",
    "# Load prebuilt model\n",
    "model = keras.models.load_model('app/mnist_classification.h5')\n",
    "\n",
    "# Handle GET request\n",
    "@app.route('/', methods=['GET'])\n",
    "def drawing():\n",
    "    return render_template('drawing.html')\n",
    "\n",
    "# Handle POST request\n",
    "@app.route('/', methods=['POST'])\n",
    "def canvas():\n",
    "    # Recieve base64 data from the user form\n",
    "    canvasdata = request.form['canvasimg']\n",
    "    encoded_data = request.form['canvasimg'].split(',')[1]\n",
    "\n",
    "    # Decode base64 image to python array\n",
    "    nparr = np.fromstring(base64.b64decode(encoded_data), np.uint8)\n",
    "    img = cv2.imdecode(nparr, cv2.IMREAD_COLOR)\n",
    "\n",
    "    # Convert 3 channel image (RGB) to 1 channel image (GRAY)\n",
    "    gray_image = cv2.cvtColor(img, cv2.COLOR_BGR2GRAY)\n",
    "\n",
    "    # Resize to (28, 28)\n",
    "    gray_image = cv2.resize(gray_image, (28, 28), interpolation=cv2.INTER_LINEAR)\n",
    "\n",
    "    # Expand to numpy array dimenstion to (1, 28, 28)\n",
    "    img = np.expand_dims(gray_image, axis=0)\n",
    "\n",
    "    try:\n",
    "        prediction = np.argmax(model.predict(img))\n",
    "        print(f\"Prediction Result : {str(prediction)}\")\n",
    "        return render_template('drawing.html', response=str(prediction), canvasdata=canvasdata, success=True)\n",
    "    except Exception as e:\n",
    "        return render_template('drawing.html', response=str(e), canvasdata=canvasdata)\n"
   ]
  },
  {
   "cell_type": "markdown",
   "metadata": {},
   "source": [
    "## Stage 6 : Monitoring and Maintanance "
   ]
  },
  {
   "cell_type": "code",
   "execution_count": null,
   "metadata": {},
   "outputs": [],
   "source": []
  }
 ],
 "metadata": {
  "colab": {
   "collapsed_sections": [],
   "name": "Image_Classi_with_ANN.ipynb",
   "provenance": []
  },
  "kernelspec": {
   "display_name": "Python 3 (ipykernel)",
   "language": "python",
   "name": "python3"
  },
  "language_info": {
   "codemirror_mode": {
    "name": "ipython",
    "version": 3
   },
   "file_extension": ".py",
   "mimetype": "text/x-python",
   "name": "python",
   "nbconvert_exporter": "python",
   "pygments_lexer": "ipython3",
   "version": "3.9.12"
  }
 },
 "nbformat": 4,
 "nbformat_minor": 1
}
