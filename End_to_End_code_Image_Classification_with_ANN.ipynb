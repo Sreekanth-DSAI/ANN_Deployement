{
 "cells": [
  {
   "cell_type": "markdown",
   "metadata": {
    "id": "XAl9QOlyi3Uf"
   },
   "source": [
    "# Building an Image Classification Model with Artificial Neural Network"
   ]
  },
  {
   "cell_type": "markdown",
   "metadata": {
    "id": "43CdMEtfmoPa"
   },
   "source": [
    "CRISP-ML(Q) Methodology\n",
    "*   Business and Data Understanding\n",
    "*   Data Preparation (Data Engineering)\n",
    "*   Model Building (Machine Learning)\n",
    "*   Model Evaluation and Tuning\n",
    "*   Deployment\n",
    "*   Monitoring and Maintenance\n",
    "\n"
   ]
  },
  {
   "cell_type": "markdown",
   "metadata": {
    "id": "EraNggnQnX7j"
   },
   "source": [
    "# Stage1 : Business and Data Understanding\n",
    "\n",
    "- The goal in this model building is to take an image of a handwritten single digit, and determine what that digit is. The project aims to evaluate the hand writtern numbers (0-9).\n",
    "\n",
    "- Business Objectives: Maximize the ability to recognize hand writtern documents\n",
    "\n",
    "- Constraints: Availability of data (More data will always give better accuracy)\n",
    "\n",
    "# Stage1(a) : Data Collection\n",
    "\n",
    "- The MNIST database of handwritten digits, available from this page, has a training set of 60,000 examples, and a test set of 10,000 examples. It is a subset of a larger set available from NIST. The digits have been size-normalized and centered in a fixed-size image. In our case, we have taken a subset of these data with training set of 5000 examples, and a test set of 1000 examples (http://yann.lecun.com/exdb/mnist/).\n",
    "\n",
    "# Stage1(b) : Data Dictionary\n",
    "\n",
    "- Each image is 28 pixels in height and 28 pixels in width, for a total of 784 pixels in total. Each pixel has a single pixel-value associated with it, indicating the lightness or darkness of that pixel, with higher numbers meaning darker. This pixel-value is an integer between 0 and 255, inclusive.\n",
    "\n",
    "- The training data set, (train.csv), has 785 columns. The first column, called \"label\", is the digit that was drawn by the user. The rest of the columns contain the pixel-values of the associated image.\n",
    "\n"
   ]
  },
  {
   "cell_type": "markdown",
   "metadata": {},
   "source": [
    "# Install/import required libraries"
   ]
  },
  {
   "cell_type": "code",
   "execution_count": 1,
   "metadata": {},
   "outputs": [
    {
     "name": "stdout",
     "output_type": "stream",
     "text": [
      "Requirement already satisfied: tensorflow in c:\\users\\dell\\anaconda3\\lib\\site-packages (2.9.1)\n",
      "Requirement already satisfied: libclang>=13.0.0 in c:\\users\\dell\\anaconda3\\lib\\site-packages (from tensorflow) (14.0.6)\n",
      "Requirement already satisfied: tensorflow-io-gcs-filesystem>=0.23.1 in c:\\users\\dell\\anaconda3\\lib\\site-packages (from tensorflow) (0.26.0)\n",
      "Requirement already satisfied: termcolor>=1.1.0 in c:\\users\\dell\\anaconda3\\lib\\site-packages (from tensorflow) (1.1.0)\n",
      "Requirement already satisfied: setuptools in c:\\users\\dell\\anaconda3\\lib\\site-packages (from tensorflow) (61.2.0)\n",
      "Requirement already satisfied: tensorboard<2.10,>=2.9 in c:\\users\\dell\\anaconda3\\lib\\site-packages (from tensorflow) (2.9.1)\n",
      "Requirement already satisfied: typing-extensions>=3.6.6 in c:\\users\\dell\\anaconda3\\lib\\site-packages (from tensorflow) (4.1.1)\n",
      "Requirement already satisfied: six>=1.12.0 in c:\\users\\dell\\anaconda3\\lib\\site-packages (from tensorflow) (1.16.0)\n",
      "Requirement already satisfied: keras<2.10.0,>=2.9.0rc0 in c:\\users\\dell\\anaconda3\\lib\\site-packages (from tensorflow) (2.9.0)\n",
      "Requirement already satisfied: numpy>=1.20 in c:\\users\\dell\\anaconda3\\lib\\site-packages (from tensorflow) (1.21.5)\n",
      "Requirement already satisfied: opt-einsum>=2.3.2 in c:\\users\\dell\\anaconda3\\lib\\site-packages (from tensorflow) (3.3.0)\n",
      "Requirement already satisfied: flatbuffers<2,>=1.12 in c:\\users\\dell\\anaconda3\\lib\\site-packages (from tensorflow) (1.12)\n",
      "Requirement already satisfied: h5py>=2.9.0 in c:\\users\\dell\\anaconda3\\lib\\site-packages (from tensorflow) (3.6.0)\n",
      "Requirement already satisfied: packaging in c:\\users\\dell\\anaconda3\\lib\\site-packages (from tensorflow) (21.3)\n",
      "Requirement already satisfied: tensorflow-estimator<2.10.0,>=2.9.0rc0 in c:\\users\\dell\\anaconda3\\lib\\site-packages (from tensorflow) (2.9.0)\n",
      "Requirement already satisfied: google-pasta>=0.1.1 in c:\\users\\dell\\anaconda3\\lib\\site-packages (from tensorflow) (0.2.0)\n",
      "Requirement already satisfied: wrapt>=1.11.0 in c:\\users\\dell\\anaconda3\\lib\\site-packages (from tensorflow) (1.12.1)\n",
      "Requirement already satisfied: astunparse>=1.6.0 in c:\\users\\dell\\anaconda3\\lib\\site-packages (from tensorflow) (1.6.3)\n",
      "Requirement already satisfied: grpcio<2.0,>=1.24.3 in c:\\users\\dell\\anaconda3\\lib\\site-packages (from tensorflow) (1.42.0)\n",
      "Requirement already satisfied: absl-py>=1.0.0 in c:\\users\\dell\\anaconda3\\lib\\site-packages (from tensorflow) (1.2.0)\n",
      "Requirement already satisfied: keras-preprocessing>=1.1.1 in c:\\users\\dell\\anaconda3\\lib\\site-packages (from tensorflow) (1.1.2)\n",
      "Requirement already satisfied: protobuf<3.20,>=3.9.2 in c:\\users\\dell\\anaconda3\\lib\\site-packages (from tensorflow) (3.19.1)\n",
      "Requirement already satisfied: gast<=0.4.0,>=0.2.1 in c:\\users\\dell\\anaconda3\\lib\\site-packages (from tensorflow) (0.4.0)\n",
      "Requirement already satisfied: wheel<1.0,>=0.23.0 in c:\\users\\dell\\anaconda3\\lib\\site-packages (from astunparse>=1.6.0->tensorflow) (0.37.1)\n",
      "Requirement already satisfied: requests<3,>=2.21.0 in c:\\users\\dell\\anaconda3\\lib\\site-packages (from tensorboard<2.10,>=2.9->tensorflow) (2.27.1)\n",
      "Requirement already satisfied: google-auth<3,>=1.6.3 in c:\\users\\dell\\anaconda3\\lib\\site-packages (from tensorboard<2.10,>=2.9->tensorflow) (1.33.0)\n",
      "Requirement already satisfied: markdown>=2.6.8 in c:\\users\\dell\\anaconda3\\lib\\site-packages (from tensorboard<2.10,>=2.9->tensorflow) (3.3.4)\n",
      "Requirement already satisfied: werkzeug>=1.0.1 in c:\\users\\dell\\anaconda3\\lib\\site-packages (from tensorboard<2.10,>=2.9->tensorflow) (2.0.3)\n",
      "Requirement already satisfied: tensorboard-plugin-wit>=1.6.0 in c:\\users\\dell\\anaconda3\\lib\\site-packages (from tensorboard<2.10,>=2.9->tensorflow) (1.8.1)\n",
      "Requirement already satisfied: tensorboard-data-server<0.7.0,>=0.6.0 in c:\\users\\dell\\anaconda3\\lib\\site-packages (from tensorboard<2.10,>=2.9->tensorflow) (0.6.1)\n",
      "Requirement already satisfied: google-auth-oauthlib<0.5,>=0.4.1 in c:\\users\\dell\\anaconda3\\lib\\site-packages (from tensorboard<2.10,>=2.9->tensorflow) (0.4.6)\n",
      "Requirement already satisfied: rsa<5,>=3.1.4 in c:\\users\\dell\\anaconda3\\lib\\site-packages (from google-auth<3,>=1.6.3->tensorboard<2.10,>=2.9->tensorflow) (4.7.2)\n",
      "Requirement already satisfied: cachetools<5.0,>=2.0.0 in c:\\users\\dell\\anaconda3\\lib\\site-packages (from google-auth<3,>=1.6.3->tensorboard<2.10,>=2.9->tensorflow) (4.2.2)\n",
      "Requirement already satisfied: pyasn1-modules>=0.2.1 in c:\\users\\dell\\anaconda3\\lib\\site-packages (from google-auth<3,>=1.6.3->tensorboard<2.10,>=2.9->tensorflow) (0.2.8)\n",
      "Requirement already satisfied: requests-oauthlib>=0.7.0 in c:\\users\\dell\\anaconda3\\lib\\site-packages (from google-auth-oauthlib<0.5,>=0.4.1->tensorboard<2.10,>=2.9->tensorflow) (1.3.1)\n",
      "Requirement already satisfied: pyasn1<0.5.0,>=0.4.6 in c:\\users\\dell\\anaconda3\\lib\\site-packages (from pyasn1-modules>=0.2.1->google-auth<3,>=1.6.3->tensorboard<2.10,>=2.9->tensorflow) (0.4.8)\n",
      "Requirement already satisfied: urllib3<1.27,>=1.21.1 in c:\\users\\dell\\anaconda3\\lib\\site-packages (from requests<3,>=2.21.0->tensorboard<2.10,>=2.9->tensorflow) (1.26.9)\n",
      "Requirement already satisfied: idna<4,>=2.5 in c:\\users\\dell\\anaconda3\\lib\\site-packages (from requests<3,>=2.21.0->tensorboard<2.10,>=2.9->tensorflow) (3.3)\n",
      "Requirement already satisfied: charset-normalizer~=2.0.0 in c:\\users\\dell\\anaconda3\\lib\\site-packages (from requests<3,>=2.21.0->tensorboard<2.10,>=2.9->tensorflow) (2.0.4)\n",
      "Requirement already satisfied: certifi>=2017.4.17 in c:\\users\\dell\\anaconda3\\lib\\site-packages (from requests<3,>=2.21.0->tensorboard<2.10,>=2.9->tensorflow) (2021.10.8)\n",
      "Requirement already satisfied: oauthlib>=3.0.0 in c:\\users\\dell\\anaconda3\\lib\\site-packages (from requests-oauthlib>=0.7.0->google-auth-oauthlib<0.5,>=0.4.1->tensorboard<2.10,>=2.9->tensorflow) (3.2.0)\n",
      "Requirement already satisfied: pyparsing!=3.0.5,>=2.0.2 in c:\\users\\dell\\anaconda3\\lib\\site-packages (from packaging->tensorflow) (3.0.4)\n",
      "Note: you may need to restart the kernel to use updated packages.\n"
     ]
    }
   ],
   "source": [
    "pip install tensorflow"
   ]
  },
  {
   "cell_type": "code",
   "execution_count": 2,
   "metadata": {},
   "outputs": [
    {
     "name": "stdout",
     "output_type": "stream",
     "text": [
      "Requirement already satisfied: keras in c:\\users\\dell\\anaconda3\\lib\\site-packages (2.9.0)Note: you may need to restart the kernel to use updated packages.\n",
      "\n"
     ]
    }
   ],
   "source": [
    "pip install keras"
   ]
  },
  {
   "cell_type": "code",
   "execution_count": 1,
   "metadata": {
    "id": "e1FfvDAqhGC1"
   },
   "outputs": [],
   "source": [
    "from tensorflow.keras.layers import Dense\n",
    "# Import necessary libraries for MLP and reshaping the data structres\n",
    "# from keras.datasets import mnist\n",
    "from tensorflow.keras.models import Sequential\n",
    "import pandas as pd\n",
    "import numpy as np\n",
    "from keras.utils import np_utils\n",
    "# from tensorflow.keras.layers import Dense\n",
    "# from keras.models import Sequential\n",
    "# from keras.layers import Dense\n",
    "# from keras.layers import Dropout,Flatten"
   ]
  },
  {
   "cell_type": "markdown",
   "metadata": {
    "id": "g3l2EQhjpV7W"
   },
   "source": [
    "## Loading data from MySQL database\n",
    "\n",
    "- The Train and Test datasets were stored in SQL database (Secondary data source) and using connectors, the data is being loaded in to python for model building process\n",
    "\n"
   ]
  },
  {
   "cell_type": "code",
   "execution_count": 4,
   "metadata": {
    "id": "mlWA_TByMJQI"
   },
   "outputs": [
    {
     "name": "stdout",
     "output_type": "stream",
     "text": [
      "Collecting mysql\n",
      "  Downloading mysql-0.0.3-py3-none-any.whl (1.2 kB)\n",
      "Collecting mysqlclient\n",
      "  Downloading mysqlclient-2.1.1-cp39-cp39-win_amd64.whl (178 kB)\n",
      "Installing collected packages: mysqlclient, mysqlNote: you may need to restart the kernel to use updated packages.\n",
      "\n",
      "Successfully installed mysql-0.0.3 mysqlclient-2.1.1\n"
     ]
    }
   ],
   "source": [
    "pip install mysql"
   ]
  },
  {
   "cell_type": "code",
   "execution_count": 5,
   "metadata": {
    "id": "3Nk1HYFUMPct"
   },
   "outputs": [
    {
     "name": "stdout",
     "output_type": "stream",
     "text": [
      "Collecting mysql.connectorNote: you may need to restart the kernel to use updated packages.\n",
      "  Downloading mysql-connector-2.2.9.tar.gz (11.9 MB)\n",
      "Building wheels for collected packages: mysql.connector\n",
      "  Building wheel for mysql.connector (setup.py): started\n",
      "  Building wheel for mysql.connector (setup.py): finished with status 'done'\n",
      "  Created wheel for mysql.connector: filename=mysql_connector-2.2.9-cp39-cp39-win_amd64.whl size=247961 sha256=4b3b0e2e2b7822bd36dfb913e905516621190c37b8c1b741117071e3ec2bd8bf\n",
      "  Stored in directory: c:\\users\\dell\\appdata\\local\\pip\\cache\\wheels\\7b\\14\\39\\5aad423666e827dfe9a1fbcd111ac17171e7c9865d570780ce\n",
      "Successfully built mysql.connector\n",
      "Installing collected packages: mysql.connector\n",
      "Successfully installed mysql.connector-2.2.9\n",
      "\n"
     ]
    }
   ],
   "source": [
    "pip install mysql.connector"
   ]
  },
  {
   "cell_type": "code",
   "execution_count": null,
   "metadata": {},
   "outputs": [],
   "source": [
    "import mysql.connector as sql\n",
    "\n",
    "mydb = sql.connect(\n",
    "  host=\"localhost\",\n",
    "  user=\"root\",\n",
    "  password=\"Password\",\n",
    "  auth_plugin='mysql_native_password'\n",
    ")\n",
    "print(mydb)"
   ]
  },
  {
   "cell_type": "code",
   "execution_count": null,
   "metadata": {
    "id": "IA_7cXTvZ9EO"
   },
   "outputs": [],
   "source": [
    "#Train Data\n",
    "mycursor = mydb.cursor()\n",
    "mycursor.execute(\"SELECT * FROM ann.train_sample\")\n",
    "myresult = mycursor.fetchall()"
   ]
  },
  {
   "cell_type": "code",
   "execution_count": null,
   "metadata": {
    "id": "mFIDuSqtaBEZ"
   },
   "outputs": [],
   "source": [
    "num_fields = len(mycursor.description)\n",
    "field_names = [i[0] for i in mycursor.description]\n",
    "train = pd.DataFrame(myresult,columns = field_names)\n",
    "train.head()"
   ]
  },
  {
   "cell_type": "code",
   "execution_count": null,
   "metadata": {
    "id": "r93ik8I8aE3F"
   },
   "outputs": [],
   "source": [
    "#Test Data\n",
    "mycursor = mydb.cursor()\n",
    "mycursor.execute(\"SELECT * FROM ann.test_sample\")\n",
    "myresult = mycursor.fetchall()"
   ]
  },
  {
   "cell_type": "code",
   "execution_count": null,
   "metadata": {
    "id": "MW0a0vhnaG3_"
   },
   "outputs": [],
   "source": [
    "num_fields = len(mycursor.description)\n",
    "field_names = [i[0] for i in mycursor.description]\n",
    "test = pd.DataFrame(myresult,columns = field_names)\n",
    "test.head()"
   ]
  },
  {
   "cell_type": "markdown",
   "metadata": {},
   "source": [
    "## Loading the data set using pandas as data frame format"
   ]
  },
  {
   "cell_type": "code",
   "execution_count": 2,
   "metadata": {},
   "outputs": [],
   "source": [
    "import pandas as pd\n",
    "train = pd.read_csv(\"C:/Users/dell/Desktop/Data2/ANN_MLP/train_sample.csv\")\n",
    "test = pd.read_csv(\"C:/Users/dell/Desktop/Data2/ANN_MLP/test_sample.csv\")"
   ]
  },
  {
   "cell_type": "markdown",
   "metadata": {
    "id": "xpYaKmu53p0a"
   },
   "source": [
    "## Stage 2 : Data Preparation (Data Engineering)\n",
    "\n",
    "## Stage 2(a) : Exploratory Data Analysis"
   ]
  },
  {
   "cell_type": "code",
   "execution_count": 3,
   "metadata": {
    "id": "XieiXipOX7MB"
   },
   "outputs": [],
   "source": [
    "new_train_f = train.drop([\"label\"],axis=1)"
   ]
  },
  {
   "cell_type": "code",
   "execution_count": 4,
   "metadata": {
    "id": "yDmZOjjfX7MC"
   },
   "outputs": [],
   "source": [
    "new_train_f = new_train_f.values.reshape(-1,28,28,1)"
   ]
  },
  {
   "cell_type": "code",
   "execution_count": 5,
   "metadata": {
    "id": "zzE6_wXjX7MD",
    "outputId": "45af6198-17a6-4cca-8941-65857ecce10a"
   },
   "outputs": [
    {
     "data": {
      "text/plain": [
       "<matplotlib.image.AxesImage at 0x26baec3d250>"
      ]
     },
     "execution_count": 5,
     "metadata": {},
     "output_type": "execute_result"
    },
    {
     "data": {
      "image/png": "[encoded data removed]",
      "text/plain": [
       "<Figure size 432x288 with 1 Axes>"
      ]
     },
     "metadata": {
      "needs_background": "light"
     },
     "output_type": "display_data"
    }
   ],
   "source": [
    "import matplotlib.pyplot as plt\n",
    "plt.imshow(new_train_f[2999][:,:,0])"
   ]
  },
  {
   "cell_type": "code",
   "execution_count": 6,
   "metadata": {
    "id": "L8LQjBQTX7ME",
    "outputId": "a19fdff4-197a-4c05-b981-7575ad33cb4a"
   },
   "outputs": [
    {
     "data": {
      "text/html": [
       "<div>\n",
       "<style scoped>\n",
       "    .dataframe tbody tr th:only-of-type {\n",
       "        vertical-align: middle;\n",
       "    }\n",
       "\n",
       "    .dataframe tbody tr th {\n",
       "        vertical-align: top;\n",
       "    }\n",
       "\n",
       "    .dataframe thead th {\n",
       "        text-align: right;\n",
       "    }\n",
       "</style>\n",
       "<table border=\"1\" class=\"dataframe\">\n",
       "  <thead>\n",
       "    <tr style=\"text-align: right;\">\n",
       "      <th></th>\n",
       "      <th>label</th>\n",
       "      <th>pixel0</th>\n",
       "      <th>pixel1</th>\n",
       "      <th>pixel2</th>\n",
       "      <th>pixel3</th>\n",
       "      <th>pixel4</th>\n",
       "      <th>pixel5</th>\n",
       "      <th>pixel6</th>\n",
       "      <th>pixel7</th>\n",
       "      <th>pixel8</th>\n",
       "      <th>...</th>\n",
       "      <th>pixel774</th>\n",
       "      <th>pixel775</th>\n",
       "      <th>pixel776</th>\n",
       "      <th>pixel777</th>\n",
       "      <th>pixel778</th>\n",
       "      <th>pixel779</th>\n",
       "      <th>pixel780</th>\n",
       "      <th>pixel781</th>\n",
       "      <th>pixel782</th>\n",
       "      <th>pixel783</th>\n",
       "    </tr>\n",
       "  </thead>\n",
       "  <tbody>\n",
       "    <tr>\n",
       "      <th>0</th>\n",
       "      <td>0</td>\n",
       "      <td>0</td>\n",
       "      <td>0</td>\n",
       "      <td>0</td>\n",
       "      <td>0</td>\n",
       "      <td>0</td>\n",
       "      <td>0</td>\n",
       "      <td>0</td>\n",
       "      <td>0</td>\n",
       "      <td>0</td>\n",
       "      <td>...</td>\n",
       "      <td>0</td>\n",
       "      <td>0</td>\n",
       "      <td>0</td>\n",
       "      <td>0</td>\n",
       "      <td>0</td>\n",
       "      <td>0</td>\n",
       "      <td>0</td>\n",
       "      <td>0</td>\n",
       "      <td>0</td>\n",
       "      <td>0</td>\n",
       "    </tr>\n",
       "    <tr>\n",
       "      <th>1</th>\n",
       "      <td>0</td>\n",
       "      <td>0</td>\n",
       "      <td>0</td>\n",
       "      <td>0</td>\n",
       "      <td>0</td>\n",
       "      <td>0</td>\n",
       "      <td>0</td>\n",
       "      <td>0</td>\n",
       "      <td>0</td>\n",
       "      <td>0</td>\n",
       "      <td>...</td>\n",
       "      <td>0</td>\n",
       "      <td>0</td>\n",
       "      <td>0</td>\n",
       "      <td>0</td>\n",
       "      <td>0</td>\n",
       "      <td>0</td>\n",
       "      <td>0</td>\n",
       "      <td>0</td>\n",
       "      <td>0</td>\n",
       "      <td>0</td>\n",
       "    </tr>\n",
       "    <tr>\n",
       "      <th>2</th>\n",
       "      <td>0</td>\n",
       "      <td>0</td>\n",
       "      <td>0</td>\n",
       "      <td>0</td>\n",
       "      <td>0</td>\n",
       "      <td>0</td>\n",
       "      <td>0</td>\n",
       "      <td>0</td>\n",
       "      <td>0</td>\n",
       "      <td>0</td>\n",
       "      <td>...</td>\n",
       "      <td>0</td>\n",
       "      <td>0</td>\n",
       "      <td>0</td>\n",
       "      <td>0</td>\n",
       "      <td>0</td>\n",
       "      <td>0</td>\n",
       "      <td>0</td>\n",
       "      <td>0</td>\n",
       "      <td>0</td>\n",
       "      <td>0</td>\n",
       "    </tr>\n",
       "    <tr>\n",
       "      <th>3</th>\n",
       "      <td>0</td>\n",
       "      <td>0</td>\n",
       "      <td>0</td>\n",
       "      <td>0</td>\n",
       "      <td>0</td>\n",
       "      <td>0</td>\n",
       "      <td>0</td>\n",
       "      <td>0</td>\n",
       "      <td>0</td>\n",
       "      <td>0</td>\n",
       "      <td>...</td>\n",
       "      <td>0</td>\n",
       "      <td>0</td>\n",
       "      <td>0</td>\n",
       "      <td>0</td>\n",
       "      <td>0</td>\n",
       "      <td>0</td>\n",
       "      <td>0</td>\n",
       "      <td>0</td>\n",
       "      <td>0</td>\n",
       "      <td>0</td>\n",
       "    </tr>\n",
       "    <tr>\n",
       "      <th>4</th>\n",
       "      <td>0</td>\n",
       "      <td>0</td>\n",
       "      <td>0</td>\n",
       "      <td>0</td>\n",
       "      <td>0</td>\n",
       "      <td>0</td>\n",
       "      <td>0</td>\n",
       "      <td>0</td>\n",
       "      <td>0</td>\n",
       "      <td>0</td>\n",
       "      <td>...</td>\n",
       "      <td>0</td>\n",
       "      <td>0</td>\n",
       "      <td>0</td>\n",
       "      <td>0</td>\n",
       "      <td>0</td>\n",
       "      <td>0</td>\n",
       "      <td>0</td>\n",
       "      <td>0</td>\n",
       "      <td>0</td>\n",
       "      <td>0</td>\n",
       "    </tr>\n",
       "    <tr>\n",
       "      <th>...</th>\n",
       "      <td>...</td>\n",
       "      <td>...</td>\n",
       "      <td>...</td>\n",
       "      <td>...</td>\n",
       "      <td>...</td>\n",
       "      <td>...</td>\n",
       "      <td>...</td>\n",
       "      <td>...</td>\n",
       "      <td>...</td>\n",
       "      <td>...</td>\n",
       "      <td>...</td>\n",
       "      <td>...</td>\n",
       "      <td>...</td>\n",
       "      <td>...</td>\n",
       "      <td>...</td>\n",
       "      <td>...</td>\n",
       "      <td>...</td>\n",
       "      <td>...</td>\n",
       "      <td>...</td>\n",
       "      <td>...</td>\n",
       "      <td>...</td>\n",
       "    </tr>\n",
       "    <tr>\n",
       "      <th>4995</th>\n",
       "      <td>9</td>\n",
       "      <td>0</td>\n",
       "      <td>0</td>\n",
       "      <td>0</td>\n",
       "      <td>0</td>\n",
       "      <td>0</td>\n",
       "      <td>0</td>\n",
       "      <td>0</td>\n",
       "      <td>0</td>\n",
       "      <td>0</td>\n",
       "      <td>...</td>\n",
       "      <td>0</td>\n",
       "      <td>0</td>\n",
       "      <td>0</td>\n",
       "      <td>0</td>\n",
       "      <td>0</td>\n",
       "      <td>0</td>\n",
       "      <td>0</td>\n",
       "      <td>0</td>\n",
       "      <td>0</td>\n",
       "      <td>0</td>\n",
       "    </tr>\n",
       "    <tr>\n",
       "      <th>4996</th>\n",
       "      <td>9</td>\n",
       "      <td>0</td>\n",
       "      <td>0</td>\n",
       "      <td>0</td>\n",
       "      <td>0</td>\n",
       "      <td>0</td>\n",
       "      <td>0</td>\n",
       "      <td>0</td>\n",
       "      <td>0</td>\n",
       "      <td>0</td>\n",
       "      <td>...</td>\n",
       "      <td>0</td>\n",
       "      <td>0</td>\n",
       "      <td>0</td>\n",
       "      <td>0</td>\n",
       "      <td>0</td>\n",
       "      <td>0</td>\n",
       "      <td>0</td>\n",
       "      <td>0</td>\n",
       "      <td>0</td>\n",
       "      <td>0</td>\n",
       "    </tr>\n",
       "    <tr>\n",
       "      <th>4997</th>\n",
       "      <td>9</td>\n",
       "      <td>0</td>\n",
       "      <td>0</td>\n",
       "      <td>0</td>\n",
       "      <td>0</td>\n",
       "      <td>0</td>\n",
       "      <td>0</td>\n",
       "      <td>0</td>\n",
       "      <td>0</td>\n",
       "      <td>0</td>\n",
       "      <td>...</td>\n",
       "      <td>0</td>\n",
       "      <td>0</td>\n",
       "      <td>0</td>\n",
       "      <td>0</td>\n",
       "      <td>0</td>\n",
       "      <td>0</td>\n",
       "      <td>0</td>\n",
       "      <td>0</td>\n",
       "      <td>0</td>\n",
       "      <td>0</td>\n",
       "    </tr>\n",
       "    <tr>\n",
       "      <th>4998</th>\n",
       "      <td>9</td>\n",
       "      <td>0</td>\n",
       "      <td>0</td>\n",
       "      <td>0</td>\n",
       "      <td>0</td>\n",
       "      <td>0</td>\n",
       "      <td>0</td>\n",
       "      <td>0</td>\n",
       "      <td>0</td>\n",
       "      <td>0</td>\n",
       "      <td>...</td>\n",
       "      <td>0</td>\n",
       "      <td>0</td>\n",
       "      <td>0</td>\n",
       "      <td>0</td>\n",
       "      <td>0</td>\n",
       "      <td>0</td>\n",
       "      <td>0</td>\n",
       "      <td>0</td>\n",
       "      <td>0</td>\n",
       "      <td>0</td>\n",
       "    </tr>\n",
       "    <tr>\n",
       "      <th>4999</th>\n",
       "      <td>9</td>\n",
       "      <td>0</td>\n",
       "      <td>0</td>\n",
       "      <td>0</td>\n",
       "      <td>0</td>\n",
       "      <td>0</td>\n",
       "      <td>0</td>\n",
       "      <td>0</td>\n",
       "      <td>0</td>\n",
       "      <td>0</td>\n",
       "      <td>...</td>\n",
       "      <td>0</td>\n",
       "      <td>0</td>\n",
       "      <td>0</td>\n",
       "      <td>0</td>\n",
       "      <td>0</td>\n",
       "      <td>0</td>\n",
       "      <td>0</td>\n",
       "      <td>0</td>\n",
       "      <td>0</td>\n",
       "      <td>0</td>\n",
       "    </tr>\n",
       "  </tbody>\n",
       "</table>\n",
       "<p>5000 rows × 785 columns</p>\n",
       "</div>"
      ],
      "text/plain": [
       "      label  pixel0  pixel1  pixel2  pixel3  pixel4  pixel5  pixel6  pixel7  \\\n",
       "0         0       0       0       0       0       0       0       0       0   \n",
       "1         0       0       0       0       0       0       0       0       0   \n",
       "2         0       0       0       0       0       0       0       0       0   \n",
       "3         0       0       0       0       0       0       0       0       0   \n",
       "4         0       0       0       0       0       0       0       0       0   \n",
       "...     ...     ...     ...     ...     ...     ...     ...     ...     ...   \n",
       "4995      9       0       0       0       0       0       0       0       0   \n",
       "4996      9       0       0       0       0       0       0       0       0   \n",
       "4997      9       0       0       0       0       0       0       0       0   \n",
       "4998      9       0       0       0       0       0       0       0       0   \n",
       "4999      9       0       0       0       0       0       0       0       0   \n",
       "\n",
       "      pixel8  ...  pixel774  pixel775  pixel776  pixel777  pixel778  pixel779  \\\n",
       "0          0  ...         0         0         0         0         0         0   \n",
       "1          0  ...         0         0         0         0         0         0   \n",
       "2          0  ...         0         0         0         0         0         0   \n",
       "3          0  ...         0         0         0         0         0         0   \n",
       "4          0  ...         0         0         0         0         0         0   \n",
       "...      ...  ...       ...       ...       ...       ...       ...       ...   \n",
       "4995       0  ...         0         0         0         0         0         0   \n",
       "4996       0  ...         0         0         0         0         0         0   \n",
       "4997       0  ...         0         0         0         0         0         0   \n",
       "4998       0  ...         0         0         0         0         0         0   \n",
       "4999       0  ...         0         0         0         0         0         0   \n",
       "\n",
       "      pixel780  pixel781  pixel782  pixel783  \n",
       "0            0         0         0         0  \n",
       "1            0         0         0         0  \n",
       "2            0         0         0         0  \n",
       "3            0         0         0         0  \n",
       "4            0         0         0         0  \n",
       "...        ...       ...       ...       ...  \n",
       "4995         0         0         0         0  \n",
       "4996         0         0         0         0  \n",
       "4997         0         0         0         0  \n",
       "4998         0         0         0         0  \n",
       "4999         0         0         0         0  \n",
       "\n",
       "[5000 rows x 785 columns]"
      ]
     },
     "execution_count": 6,
     "metadata": {},
     "output_type": "execute_result"
    }
   ],
   "source": [
    "train"
   ]
  },
  {
   "cell_type": "markdown",
   "metadata": {
    "id": "uskYoj9HbgAM"
   },
   "source": [
    "## Train and Test data - Data splitting"
   ]
  },
  {
   "cell_type": "code",
   "execution_count": 7,
   "metadata": {
    "id": "F0vWgZ91k2H8"
   },
   "outputs": [],
   "source": [
    "# Separating the data set into 2 parts - all the inputs and label columns\n",
    "# converting the integer type into float32 format \n",
    "x_train = train.iloc[:,1:].values.astype(\"float32\")\n",
    "x_test = test.iloc[:,1:].values.astype(\"float32\")\n",
    "y_train = train.label.values.astype(\"float32\")\n",
    "y_test = test.label.values.astype(\"float32\")"
   ]
  },
  {
   "cell_type": "markdown",
   "metadata": {
    "id": "hV_65PlZbqfp"
   },
   "source": [
    "## Data Normalization"
   ]
  },
  {
   "cell_type": "code",
   "execution_count": 8,
   "metadata": {
    "id": "GzmDD-nCk-lJ"
   },
   "outputs": [],
   "source": [
    "# Normalizing the inputs to fall under 0-1 by \n",
    "# diving the entire data with 255 (max pixel value)\n",
    "x_train = x_train/255\n",
    "x_test = x_test/255"
   ]
  },
  {
   "cell_type": "code",
   "execution_count": 9,
   "metadata": {
    "id": "tVG3GvCulDLm"
   },
   "outputs": [],
   "source": [
    "# one hot encoding outputs for both train and test data sets \n",
    "y_train = np_utils.to_categorical(y_train)\n",
    "y_test = np_utils.to_categorical(y_test)"
   ]
  },
  {
   "cell_type": "code",
   "execution_count": 10,
   "metadata": {
    "colab": {
     "base_uri": "https://localhost:8080/"
    },
    "id": "a903ZYPJlGaz",
    "outputId": "37df4da3-6aee-403e-f0ce-b187430de50a"
   },
   "outputs": [
    {
     "data": {
      "text/plain": [
       "(1000, 10)"
      ]
     },
     "execution_count": 10,
     "metadata": {},
     "output_type": "execute_result"
    }
   ],
   "source": [
    "# Storing the number of classes into the variable num_of_classes \n",
    "num_of_classes = y_test.shape[1]\n",
    "x_train.shape\n",
    "y_train.shape\n",
    "x_test.shape\n",
    "y_test.shape"
   ]
  },
  {
   "cell_type": "markdown",
   "metadata": {
    "id": "3upSrY37bzBf"
   },
   "source": [
    "## Stage 3 : Model Building (Machine Learning)"
   ]
  },
  {
   "cell_type": "code",
   "execution_count": 11,
   "metadata": {
    "id": "TeMDuaNJlKrt"
   },
   "outputs": [],
   "source": [
    "# Creating a user defined function to return the model for which we are\n",
    "# giving the input to train the ANN mode\n",
    "def design_mlp():\n",
    "    # Initializing the model \n",
    "    model = Sequential()\n",
    "    model.add(Dense(150, input_dim =784, activation=\"relu\"))\n",
    "    model.add(Dense(200, activation=\"tanh\"))\n",
    "    model.add(Dense(100, activation=\"tanh\"))\n",
    "    \n",
    "    model.add(Dense(num_of_classes, activation=\"softmax\"))\n",
    "    model.compile(loss=\"categorical_crossentropy\", metrics=[\"accuracy\"])\n",
    "    return model"
   ]
  },
  {
   "cell_type": "code",
   "execution_count": 12,
   "metadata": {
    "colab": {
     "base_uri": "https://localhost:8080/"
    },
    "id": "3Yx1R13NlQHa",
    "outputId": "fe40e931-c2a6-4779-aeaa-e3829e0f7b7e"
   },
   "outputs": [
    {
     "name": "stdout",
     "output_type": "stream",
     "text": [
      "Epoch 1/10\n",
      "5/5 [==============================] - 2s 27ms/step - loss: 1.7855 - accuracy: 0.4270\n",
      "Epoch 2/10\n",
      "5/5 [==============================] - 0s 25ms/step - loss: 0.8932 - accuracy: 0.7696\n",
      "Epoch 3/10\n",
      "5/5 [==============================] - 0s 25ms/step - loss: 0.7215 - accuracy: 0.7896\n",
      "Epoch 4/10\n",
      "5/5 [==============================] - 0s 26ms/step - loss: 0.4982 - accuracy: 0.8698\n",
      "Epoch 5/10\n",
      "5/5 [==============================] - 0s 22ms/step - loss: 0.4256 - accuracy: 0.8796\n",
      "Epoch 6/10\n",
      "5/5 [==============================] - 0s 25ms/step - loss: 0.4013 - accuracy: 0.8862\n",
      "Epoch 7/10\n",
      "5/5 [==============================] - 0s 25ms/step - loss: 0.3628 - accuracy: 0.8904\n",
      "Epoch 8/10\n",
      "5/5 [==============================] - 0s 27ms/step - loss: 0.3113 - accuracy: 0.9094\n",
      "Epoch 9/10\n",
      "5/5 [==============================] - 0s 24ms/step - loss: 0.2671 - accuracy: 0.9226\n",
      "Epoch 10/10\n",
      "5/5 [==============================] - 0s 25ms/step - loss: 0.2707 - accuracy: 0.9222\n",
      "Model: \"sequential\"\n",
      "_________________________________________________________________\n",
      " Layer (type)                Output Shape              Param #   \n",
      "=================================================================\n",
      " dense (Dense)               (None, 150)               117750    \n",
      "                                                                 \n",
      " dense_1 (Dense)             (None, 200)               30200     \n",
      "                                                                 \n",
      " dense_2 (Dense)             (None, 100)               20100     \n",
      "                                                                 \n",
      " dense_3 (Dense)             (None, 10)                1010      \n",
      "                                                                 \n",
      "=================================================================\n",
      "Total params: 169,060\n",
      "Trainable params: 169,060\n",
      "Non-trainable params: 0\n",
      "_________________________________________________________________\n"
     ]
    }
   ],
   "source": [
    "# building a ANN model using train data set and validating on test data set\n",
    "model = design_mlp()\n",
    "\n",
    "# fitting model on train data\n",
    "model.fit(x=x_train, y=y_train, batch_size=1000, epochs=10)\n",
    "model.summary()"
   ]
  },
  {
   "cell_type": "markdown",
   "metadata": {
    "id": "kJ-ZKpc0b6HZ"
   },
   "source": [
    "## Stage 4 : Model Evaluation and Tuning"
   ]
  },
  {
   "cell_type": "code",
   "execution_count": 13,
   "metadata": {
    "colab": {
     "base_uri": "https://localhost:8080/"
    },
    "id": "nP8jxpvIll8i",
    "outputId": "d8266b82-244d-4854-c4ed-779a43e0f5d7"
   },
   "outputs": [
    {
     "name": "stdout",
     "output_type": "stream",
     "text": [
      "32/32 [==============================] - 1s 4ms/step - loss: 0.2599 - accuracy: 0.9180\n",
      "Accuracy: 91.800%\n"
     ]
    }
   ],
   "source": [
    "# Evaluating the model on test data  \n",
    "eval_score_test = model.evaluate(x_test, y_test, verbose = 1)\n",
    "print (\"Accuracy: %.3f%%\" %(eval_score_test[1]*100)) \n",
    "# accuracy on test data set"
   ]
  },
  {
   "cell_type": "code",
   "execution_count": 14,
   "metadata": {
    "colab": {
     "base_uri": "https://localhost:8080/"
    },
    "id": "IMo9kxnWlo0f",
    "outputId": "486ebac4-9d85-4b65-ecc8-78b2673ad80c"
   },
   "outputs": [
    {
     "name": "stdout",
     "output_type": "stream",
     "text": [
      "Accuracy: 94.580%\n"
     ]
    }
   ],
   "source": [
    "# accuracy score on train data \n",
    "eval_score_train = model.evaluate(x_train, y_train, verbose=0)\n",
    "print (\"Accuracy: %.3f%%\" %(eval_score_train[1]*100)) \n",
    "# accuracy on train data set"
   ]
  },
  {
   "cell_type": "markdown",
   "metadata": {
    "id": "C8QvYmGUcAJJ"
   },
   "source": [
    "## Stage 5 : Model Deployement\n",
    "\n",
    "### Saving Model (Importing h5 File)"
   ]
  },
  {
   "cell_type": "code",
   "execution_count": 29,
   "metadata": {},
   "outputs": [],
   "source": [
    "# Save model\n",
    "model.save('mnist_classification.h5')"
   ]
  },
  {
   "cell_type": "code",
   "execution_count": 15,
   "metadata": {},
   "outputs": [],
   "source": [
    "from keras.models import model_from_json\n",
    "# serialize model to json\n",
    "json_model = model.to_json()\n",
    "#save the model architecture to JSON file\n",
    "with open('digit_model.json', 'w') as json_file:\n",
    "    json_file.write(json_model)\n",
    "#saving the weights of the model\n",
    "model.save_weights('digit_weights.h5')"
   ]
  },
  {
   "cell_type": "code",
   "execution_count": 32,
   "metadata": {},
   "outputs": [
    {
     "name": "stdout",
     "output_type": "stream",
     "text": [
      "Collecting opencv-pythonNote: you may need to restart the kernel to use updated packages.\n",
      "  Downloading opencv_python-4.6.0.66-cp36-abi3-win_amd64.whl (35.6 MB)\n",
      "Requirement already satisfied: numpy>=1.14.5 in c:\\users\\dell\\anaconda3\\lib\\site-packages (from opencv-python) (1.21.5)\n",
      "Installing collected packages: opencv-python\n",
      "Successfully installed opencv-python-4.6.0.66\n",
      "\n"
     ]
    }
   ],
   "source": [
    "pip install opencv-python"
   ]
  },
  {
   "cell_type": "markdown",
   "metadata": {},
   "source": [
    "## app.py file"
   ]
  },
  {
   "cell_type": "code",
   "execution_count": 35,
   "metadata": {},
   "outputs": [],
   "source": [
    "# from flask import Flask, render_template, request, jsonify\n",
    "# import numpy as np\n",
    "# from tensorflow import keras\n",
    "# import cv2\n",
    "# import base64\n",
    "\n",
    "# # Initialize flask app\n",
    "# app = Flask(__name__)\n",
    "\n",
    "# # Load prebuilt model\n",
    "# model = keras.models.load_model('C:/Users/dell/Desktop/Data2/ANN_MLP/mnist_classification.h5')\n",
    "\n",
    "# # Handle GET request\n",
    "# @app.route('/', methods=['GET'])\n",
    "# def drawing():\n",
    "#     return render_template('C:\\\\Users\\\\dell\\\\Desktop\\\\Data2\\\\ANN_MLP\\\\drawing.html')\n",
    "\n",
    "# # Handle POST request\n",
    "# @app.route('/', methods=['POST'])\n",
    "# def canvas():\n",
    "#     # Recieve base64 data from the user form\n",
    "#     canvasdata = request.form['canvasimg']\n",
    "#     encoded_data = request.form['canvasimg'].split(',')[1]\n",
    "\n",
    "#     # Decode base64 image to python array\n",
    "#     nparr = np.fromstring(base64.b64decode(encoded_data), np.uint8)\n",
    "#     img = cv2.imdecode(nparr, cv2.IMREAD_COLOR)\n",
    "\n",
    "#     # Convert 3 channel image (RGB) to 1 channel image (GRAY)\n",
    "#     gray_image = cv2.cvtColor(img, cv2.COLOR_BGR2GRAY)\n",
    "\n",
    "#     # Resize to (28, 28)\n",
    "#     gray_image = cv2.resize(gray_image, (28, 28), interpolation=cv2.INTER_LINEAR)\n",
    "\n",
    "#     # Expand to numpy array dimenstion to (1, 28, 28)\n",
    "#     img = np.expand_dims(gray_image, axis=0)\n",
    "\n",
    "#     try:\n",
    "#         prediction = np.argmax(model.predict(img))\n",
    "#         print(f\"Prediction Result : {str(prediction)}\")\n",
    "#         return render_template('C:\\\\Users\\\\dell\\\\Desktop\\\\Data2\\\\ANN_MLP\\\\drawing.html', response=str(prediction), canvasdata=canvasdata, success=True)\n",
    "#     except Exception as e:\n",
    "#         return render_template('C:\\\\Users\\\\dell\\\\Desktop\\\\Data2\\\\ANN_MLP\\\\drawing.html', response=str(e), canvasdata=canvasdata)\n"
   ]
  },
  {
   "cell_type": "markdown",
   "metadata": {},
   "source": [
    "## html file"
   ]
  },
  {
   "cell_type": "code",
   "execution_count": null,
   "metadata": {},
   "outputs": [],
   "source": [
    "# # to open/create a new html file in the write mode\n",
    "# f = open('drawing.html', 'w')\n",
    "  \n",
    "# # the html code which will go in the file GFG.html\n",
    "# html_template = \"\"\"<!DOCTYPE html>\n",
    "# <html lang=\"en\">\n",
    "# <head>\n",
    "#     <meta charset=\"UTF-8\">\n",
    "#     <meta name=\"viewport\" content=\"width=device-width, initial-scale=1.0\">\n",
    "#     <title>Number Recognizer</title>\n",
    "#     <link rel=\"stylesheet\" href=\"https://stackpath.bootstrapcdn.com/bootstrap/4.5.2/css/bootstrap.min.css\" integrity=\"sha384-JcKb8q3iqJ61gNV9KGb8thSsNjpSL0n8PARn9HuZOnIxN0hoP+VmmDGMN5t9UJ0Z\" crossorigin=\"anonymous\">\n",
    "#     <style>\n",
    "#         .tools {\n",
    "#             width: 280px;\n",
    "#         }\n",
    "#         .tools button{\n",
    "#             border: 2px solid black;\n",
    "#             width: 95px;\n",
    "#             border-radius: 0px;\n",
    "#         }\n",
    "#     </style>\n",
    "# </head>\n",
    "# <body>\n",
    "#     <nav class=\"navbar text-light bg-info\">\n",
    "#         <div class=\"mx-auto\"><h1 style=\"font-family: arial\">Number Recognizer</h1></div>\n",
    "#     </nav>\n",
    "#     {% if response %}\n",
    "#         {% if success %}\n",
    "#             <p class=\"alert alert-success m-4 text-center\">Prediction Result : {{ response }}</p>\n",
    "#         {% else %}\n",
    "#             <p class=\"alert alert-success m-4 text-center\">{{ response }}</p>\n",
    "#         {% endif %}\n",
    "#     {% endif %}\n",
    "#     <div class=\"container mt-4\">\n",
    "#         <div class=\"row\" style=\"width: 280px; margin: auto;\">\n",
    "#             <div class=\"tools d-flex justify-content-between\">\n",
    "#                 <button class=\"btn btn-danger\" id=\"clear\">Clear</button>\n",
    "#                 <button class=\"btn btn-success\" id=\"pastel\" onclick=\"pastel()\">Pastel</button>\n",
    "#                 <button class=\"btn btn-warning\" id=\"eraser\" onclick=\"eraser()\">Eraser</button>\n",
    "#             </div>\n",
    "#         </div>\n",
    "#         <form action=\"/\" method=\"POST\" onsubmit=\"canvastoimage()\">\n",
    "#             <div class=\"row\">\n",
    "#                 <div class=\"col d-flex justify-content-center\">\n",
    "#                     <input type=\"hidden\" id=\"canvasimg\" name=\"canvasimg\">\n",
    "#                     <input type=\"hidden\" id=\"canvasdata\" name=\"canvasdata\" value=\"{{ canvasdata }}\">\n",
    "#                     <canvas id=\"canvas\" width=\"280\" height=\"280\"></canvas>\n",
    "#                 </div>\n",
    "#             </div>\n",
    "#             <div class=\"row\">\n",
    "#                 <div class=\"col d-flex justify-content-center\">\n",
    "#                     <button style=\"width: 280px; border-radius: 0px;\" class=\"btn btn-success\" id=\"send\" type=\"submit\">Detect Number</button>\n",
    "#                 </div>\n",
    "#             </div>\n",
    "#         </form>\n",
    "#     </div>\n",
    "    \n",
    "#     <script>\n",
    "#         // Canvas Drawing\n",
    "#         window.addEventListener('load', ()=>{\n",
    "#             const canvas = document.querySelector('#canvas');\n",
    "#             const context = canvas.getContext('2d');\n",
    "\n",
    "#             const canvasdata = document.querySelector('#canvasdata').value;\n",
    "#             if (canvasdata){\n",
    "#                 const image = new Image();\n",
    "#                 image.onload = ()=>{\n",
    "#                     context.drawImage(image, 0, 0);\n",
    "#                 };\n",
    "#                 image.src = canvasdata;\n",
    "#             } else {\n",
    "#                 context.fillStyle = \"black\";\n",
    "#                 context.fillRect(0, 0, canvas.width, canvas.height);\n",
    "#             }\n",
    "\n",
    "#             let radius = 10;\n",
    "#             let start = 0;\n",
    "#             let end = Math.PI * 2;\n",
    "#             let dragging = false;\n",
    "\n",
    "#             context.lineWidth = radius * 2;\n",
    "#             context.lineCap = 'round';\n",
    "\n",
    "#             const putPoint = (e)=>{\n",
    "#                 if (dragging){\n",
    "#                     context.fillStyle = \"white\";\n",
    "#                     context.strokeStyle = \"white\";\n",
    "#                     context.lineTo(e.offsetX, e.offsetY);\n",
    "#                     context.stroke();\n",
    "#                     context.beginPath();\n",
    "#                     context.arc(e.offsetX, e.offsetY, radius, start, end);\n",
    "#                     context.fill();\n",
    "#                     context.beginPath();\n",
    "#                     context.moveTo(e.offsetX, e.offsetY);\n",
    "#                 }\n",
    "#             }\n",
    "\n",
    "#             const engage = (e)=>{\n",
    "#                 dragging = true;\n",
    "#                 putPoint(e);\n",
    "#             }\n",
    "\n",
    "#             const disengage = ()=>{\n",
    "#                 dragging = false;\n",
    "#                 context.beginPath();\n",
    "#             }\n",
    "\n",
    "#             canvas.addEventListener('mousedown', engage);\n",
    "#             canvas.addEventListener('mousemove', putPoint);\n",
    "#             canvas.addEventListener('mouseup', disengage);\n",
    "\n",
    "#             const clear = document.querySelector('#clear');\n",
    "#             clear.addEventListener('click', ()=>{\n",
    "#                 const canvas = document.querySelector('#canvas');\n",
    "#                 const context = canvas.getContext('2d');\n",
    "#                 context.filter = 'invert(0)';\n",
    "#                 context.fillStyle = \"black\";\n",
    "#                 context.fillRect(0, 0, canvas.width, canvas.height);\n",
    "#             });\n",
    "\n",
    "#             // Pastel\n",
    "#             const pastel = document.querySelector('#pastel');\n",
    "#             pastel.addEventListener('click', ()=>{\n",
    "#                 const canvas = document.querySelector('#canvas');\n",
    "#                 const context = canvas.getContext('2d');\n",
    "#                 context.filter = 'invert(0)';\n",
    "#                 radius = 10;\n",
    "#             });\n",
    "\n",
    "#             // Eraser\n",
    "#             const eraser = document.querySelector('#eraser');\n",
    "#             eraser.addEventListener('click', ()=>{\n",
    "#                 const canvas = document.querySelector('#canvas');\n",
    "#                 const context = canvas.getContext('2d');\n",
    "#                 context.filter = 'invert(1)';\n",
    "#                 radius = 30;\n",
    "#             });\n",
    "#         });\n",
    "\n",
    "#         // Canvas Submit\n",
    "#         const canvastoimage = ()=>{\n",
    "#             const canvas = document.querySelector('#canvas');\n",
    "#             document.getElementById('canvasimg').value = canvas.toDataURL();\n",
    "#         };\n",
    "#     </script>\n",
    "#     <script src=\"https://code.jquery.com/jquery-3.5.1.min.js\" integrity=\"sha256-9/aliU8dGd2tb6OSsuzixeV4y/faTqgFtohetphbbj0=\" crossorigin=\"anonymous\"></script>\n",
    "#     <script src=\"https://stackpath.bootstrapcdn.com/bootstrap/4.5.2/js/bootstrap.min.js\" integrity=\"sha384-B4gt1jrGC7Jh4AgTPSdUtOBvfO8shuf57BaghqFfPlYxofvL8/KUEfYiJOMMV+rV\" crossorigin=\"anonymous\"></script>\n",
    "# </body>\n",
    "# </html>\"\"\""
   ]
  },
  {
   "cell_type": "markdown",
   "metadata": {},
   "source": [
    "## Stage 6 : Monitoring and Maintanance "
   ]
  },
  {
   "cell_type": "markdown",
   "metadata": {},
   "source": [
    "Machine learning models are dynamic and degrade over time after being deployed to production. So, deployement is not the final step, but monitoring is also important. Different monitoring and observability platforms are available for monitoring and maintanance, we have to choose one based on our requirement. There might be issues related system metrics, error rates, traffic volume, app loading times, infrastructure (server counts, load, CPU/GPU usage) etc. The best tools to do ML Model Monitoring are Neptune, Arize, WhyLabs, Grafana + Prometheus, Evidently, Qualdo, Fiddler, Amazon SageMaker Model Monitor, Seldon Core, Censius etc."
   ]
  }
 ],
 "metadata": {
  "colab": {
   "collapsed_sections": [],
   "name": "Image_Classi_with_ANN.ipynb",
   "provenance": []
  },
  "kernelspec": {
   "display_name": "Python 3 (ipykernel)",
   "language": "python",
   "name": "python3"
  },
  "language_info": {
   "codemirror_mode": {
    "name": "ipython",
    "version": 3
   },
   "file_extension": ".py",
   "mimetype": "text/x-python",
   "name": "python",
   "nbconvert_exporter": "python",
   "pygments_lexer": "ipython3",
   "version": "3.9.12"
  }
 },
 "nbformat": 4,
 "nbformat_minor": 1
}
